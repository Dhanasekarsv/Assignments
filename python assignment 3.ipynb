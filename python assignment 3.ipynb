{
 "cells": [
  {
   "cell_type": "code",
   "execution_count": null,
   "metadata": {},
   "outputs": [],
   "source": [
    "1.1 Write a Python Program to implement your own myreduce() function which works exactly\n",
    "like Python's built-in function reduce()"
   ]
  },
  {
   "cell_type": "code",
   "execution_count": 99,
   "metadata": {},
   "outputs": [
    {
     "data": {
      "text/plain": [
       "240"
      ]
     },
     "execution_count": 99,
     "metadata": {},
     "output_type": "execute_result"
    }
   ],
   "source": [
    "s = [4, 2, 3, 5,2]\n",
    "num = 1\n",
    "for i in range(0,len(s)):\n",
    "    a=i+1\n",
    "    if i==0:\n",
    "        s[i] *= s[a]\n",
    "        num=s[i]\n",
    "    elif (i<= (len(s))-2):\n",
    "        num *=s[a]\n",
    "    else :\n",
    "        break;\n",
    "num"
   ]
  },
  {
   "cell_type": "code",
   "execution_count": null,
   "metadata": {},
   "outputs": [],
   "source": [
    "1.2 Write a Python program to implement your own myfilter() function which works exactly\n",
    "like Python's built-in function filter()"
   ]
  },
  {
   "cell_type": "code",
   "execution_count": 104,
   "metadata": {},
   "outputs": [],
   "source": [
    "seq = [0, 1, 2, 3, 5, 8, 13] "
   ]
  },
  {
   "cell_type": "code",
   "execution_count": 108,
   "metadata": {},
   "outputs": [
    {
     "data": {
      "text/plain": [
       "[0, 2, 8]"
      ]
     },
     "execution_count": 108,
     "metadata": {},
     "output_type": "execute_result"
    }
   ],
   "source": [
    "en=[]\n",
    "od=[]\n",
    "for x in seq:\n",
    "    if(x % 2 != 0):\n",
    "        od.append(x)\n",
    "    if(x % 2 == 0):\n",
    "        en.append(x)\n",
    "en\n"
   ]
  },
  {
   "cell_type": "code",
   "execution_count": 109,
   "metadata": {},
   "outputs": [
    {
     "data": {
      "text/plain": [
       "[1, 3, 5, 13]"
      ]
     },
     "execution_count": 109,
     "metadata": {},
     "output_type": "execute_result"
    }
   ],
   "source": [
    "od"
   ]
  },
  {
   "cell_type": "code",
   "execution_count": 126,
   "metadata": {},
   "outputs": [],
   "source": [
    "# Implement List comprehensions to produce the following lists.\n",
    "#Write List comprehensions to produce the following Lists\n",
    "#[(1, 1), (2, 1), (3, 1), (1, 2), (2, 2), (3, 2), (1, 3), (2, 3), (3, 3)]"
   ]
  },
  {
   "cell_type": "code",
   "execution_count": 128,
   "metadata": {},
   "outputs": [
    {
     "data": {
      "text/plain": [
       "[[1, 1], [2, 1], [3, 1], [1, 2], [2, 2], [3, 2], [1, 3], [2, 3], [3, 3]]"
      ]
     },
     "execution_count": 128,
     "metadata": {},
     "output_type": "execute_result"
    }
   ],
   "source": [
    "res=[]\n",
    "for i in [1,2,3]:\n",
    "    for j in [1,2,3]:\n",
    "        res.append([j,i])\n",
    "res"
   ]
  },
  {
   "cell_type": "code",
   "execution_count": 139,
   "metadata": {},
   "outputs": [
    {
     "name": "stdout",
     "output_type": "stream",
     "text": [
      "[[2], [3], [4], [3], [4], [5], [4], [5], [6]]\n"
     ]
    }
   ],
   "source": [
    "#[2, 3, 4, 3, 4, 5, 4, 5, 6]\n",
    "mat= [[2,3,4],[3,4,5],[4,5,6]] \n",
    "  \n",
    "fm = [] \n",
    "  \n",
    "for sublist in mat: \n",
    "    for val in sublist: \n",
    "        fm.append([val]) \n",
    "          \n",
    "print(flatten_matrix) "
   ]
  },
  {
   "cell_type": "code",
   "execution_count": null,
   "metadata": {},
   "outputs": [],
   "source": [
    "#[[2, 3, 4, 5], [3, 4, 5, 6],[4, 5, 6, 7], [5, 6, 7, 8]]"
   ]
  },
  {
   "cell_type": "code",
   "execution_count": 60,
   "metadata": {},
   "outputs": [
    {
     "name": "stdout",
     "output_type": "stream",
     "text": [
      "[[2, 3, 4, 5], [3, 4, 5, 6], [4, 5, 6, 7], [5, 6, 7, 8]]\n"
     ]
    }
   ],
   "source": [
    "matrix = [] \n",
    "  \n",
    "for i in range(4): \n",
    "    matrix.append([])     \n",
    "    if i==0:  \n",
    "        for j in range(2,6): \n",
    "            matrix[i].append(j)\n",
    "    if i==1:  \n",
    "        for j in range(3,7): \n",
    "            matrix[i].append(j) \n",
    "    if i==2:  \n",
    "        for j in range(4,8): \n",
    "            matrix[i].append(j)\n",
    "    if i==3:  \n",
    "        for j in range(5,9): \n",
    "            matrix[i].append(j) \n",
    "print(matrix) "
   ]
  },
  {
   "cell_type": "code",
   "execution_count": null,
   "metadata": {},
   "outputs": [],
   "source": [
    "#['x', 'y', 'z', 'xx', 'yy', 'zz', 'xxx', 'yyy', 'zzz', 'xxxx', 'yyyy', 'zzzz'] "
   ]
  },
  {
   "cell_type": "code",
   "execution_count": 97,
   "metadata": {},
   "outputs": [
    {
     "name": "stdout",
     "output_type": "stream",
     "text": [
      "['x', 'y', 'z', 'xx', 'yy', 'zz', 'xxx', 'yyy', 'zzz', 'xxxx', 'yyyy', 'zzzz']\n"
     ]
    }
   ],
   "source": [
    "l=[]\n",
    "for R in range(1,5):\n",
    "    for C in range(0,3):\n",
    "        if C==0:\n",
    "            i=('x'*(R))\n",
    "            l.append(i)\n",
    "        if C==1:\n",
    "            i=('y'*(R))\n",
    "            l.append(i)\n",
    "        if C==2:\n",
    "            i=('z'*(R))\n",
    "            l.append(i)\n",
    "print(l)       \n"
   ]
  },
  {
   "cell_type": "code",
   "execution_count": null,
   "metadata": {},
   "outputs": [],
   "source": [
    "#['x', 'xx', 'xxx', 'xxxx', 'y', 'yy', 'yyy', 'yyyy', 'z', 'zz', 'zzz', 'zzzz'] "
   ]
  },
  {
   "cell_type": "code",
   "execution_count": 100,
   "metadata": {},
   "outputs": [
    {
     "name": "stdout",
     "output_type": "stream",
     "text": [
      "['x', 'xx', 'xxx', 'xxxx', 'y', 'yy', 'yyy', 'yyyy', 'z', 'zz', 'zzz', 'zzzz']\n"
     ]
    }
   ],
   "source": [
    "l=[]\n",
    "for R in range(0,3):\n",
    "    for C in range(1,5):\n",
    "        if R==0:\n",
    "            i=('x'*(C))\n",
    "            l.append(i)\n",
    "        if R==1:\n",
    "            i=('y'*(C))\n",
    "            l.append(i)\n",
    "        if R==2:\n",
    "            i=('z'*(C))\n",
    "            l.append(i)\n",
    "print(l) "
   ]
  }
 ],
 "metadata": {
  "kernelspec": {
   "display_name": "Python 3",
   "language": "python",
   "name": "python3"
  },
  "language_info": {
   "codemirror_mode": {
    "name": "ipython",
    "version": 3
   },
   "file_extension": ".py",
   "mimetype": "text/x-python",
   "name": "python",
   "nbconvert_exporter": "python",
   "pygments_lexer": "ipython3",
   "version": "3.7.1"
  }
 },
 "nbformat": 4,
 "nbformat_minor": 2
}
