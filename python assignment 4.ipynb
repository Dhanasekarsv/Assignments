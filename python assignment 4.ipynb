{
 "cells": [
  {
   "cell_type": "code",
   "execution_count": null,
   "metadata": {},
   "outputs": [],
   "source": [
    "1.1 Write a Python Program(with class concepts) to find the area of the triangle using the below\n",
    "formula.\n",
    "area = (s*(s-a)*(s-b)*(s-c)) ** 0.5\n",
    "Function to take the length of the sides of triangle from user should be defined in the parent\n",
    "class and function to calculate the area should be defined in subclass"
   ]
  },
  {
   "cell_type": "code",
   "execution_count": 252,
   "metadata": {},
   "outputs": [
    {
     "name": "stdout",
     "output_type": "stream",
     "text": [
      "lengh of all three sides are 5 6 7.\n",
      "14.696938456699069\n"
     ]
    }
   ],
   "source": [
    "class LenghtOfSides:\n",
    "    def __init__(self,firstside,secondside,thirdside):\n",
    "        self.firstside = firstside\n",
    "        self.secondside = secondside\n",
    "        self.thirdside = thirdside\n",
    "    def semiperimeter(self):\n",
    "        s=int((self.firstside+self.secondside+self.thirdside)/2)\n",
    "        return s\n",
    "    def __str__(self):\n",
    "        return \"lengh of all three sides are %d %d %d.\" %(self.firstside,self.secondside,self.thirdside)\n",
    "class calculateArea:\n",
    "    def __init__(self, LenghtOfSides,*args):\n",
    "        self.LenghtOfSides = LenghtOfSides\n",
    "    def area(self):\n",
    "        a=self.LenghtOfSides.firstside\n",
    "        b=self.LenghtOfSides.secondside\n",
    "        c=self.LenghtOfSides.thirdside\n",
    "        sp=l.semiperimeter()\n",
    "        area = (sp*(sp-a)*(sp-b)*(sp-c)) ** 0.5\n",
    "        #print(f)\n",
    "        return area\n",
    "    def __str__(self):\n",
    "        #return str(self.LenghtOfSides)  + \" And has area: %d\" % area(self)\n",
    "        return str(self.LenghtOfSides) \n",
    "\n",
    "l=LenghtOfSides(5,6,7)\n",
    "c=calculateArea(l)\n",
    "#print(lenofsides)\n",
    "print(c)\n",
    "#print(l.semiperimeter())\n",
    "print(c.area())\n",
    "\n"
   ]
  },
  {
   "cell_type": "code",
   "execution_count": null,
   "metadata": {},
   "outputs": [],
   "source": [
    "1.2 Write a function filter_long_words() that takes a list of words and an integer n and returns\n",
    "the list of words that are longer than n"
   ]
  },
  {
   "cell_type": "code",
   "execution_count": 165,
   "metadata": {},
   "outputs": [],
   "source": [
    "Strl = ['ab','cde','efgh','ijklm']"
   ]
  },
  {
   "cell_type": "code",
   "execution_count": 174,
   "metadata": {},
   "outputs": [],
   "source": [
    "lis=[]\n",
    "def filter_long_words(Strl,l):\n",
    "    for a in Strl:\n",
    "        if len(a) > l:\n",
    "            lis.append(a)\n",
    "    return lis\n",
    "            "
   ]
  },
  {
   "cell_type": "code",
   "execution_count": 175,
   "metadata": {},
   "outputs": [
    {
     "data": {
      "text/plain": [
       "['efgh', 'ijklm']"
      ]
     },
     "execution_count": 175,
     "metadata": {},
     "output_type": "execute_result"
    }
   ],
   "source": [
    "filter_long_words(Strl,3)"
   ]
  },
  {
   "cell_type": "code",
   "execution_count": null,
   "metadata": {},
   "outputs": [],
   "source": [
    "2.1 Write a Python program using function concept that maps list of words into a list of integers\n",
    "representing the lengths of the corresponding words.\n",
    "Hint: If a list [ ab,cde,erty] is passed on to the python function output should come as [2,3,4]\n",
    "Here 2,3 and 4 are the lengths of the words in the list."
   ]
  },
  {
   "cell_type": "code",
   "execution_count": 85,
   "metadata": {},
   "outputs": [],
   "source": [
    "resl=[]\n",
    "def valString(T):\n",
    "    return (len(T))\n",
    "    \n",
    "Strl = ['ab','cde','erty']"
   ]
  },
  {
   "cell_type": "code",
   "execution_count": 86,
   "metadata": {},
   "outputs": [
    {
     "data": {
      "text/plain": [
       "[2, 3, 4]"
      ]
     },
     "execution_count": 86,
     "metadata": {},
     "output_type": "execute_result"
    }
   ],
   "source": [
    "F_retu = list(map(valString,Strl))\n",
    "F_retu"
   ]
  },
  {
   "cell_type": "code",
   "execution_count": 82,
   "metadata": {},
   "outputs": [
    {
     "data": {
      "text/plain": [
       "[2, 3, 4]"
      ]
     },
     "execution_count": 82,
     "metadata": {},
     "output_type": "execute_result"
    }
   ],
   "source": [
    "# using Lambda\n",
    "list(map(lambda T : len(T), Strl))"
   ]
  },
  {
   "cell_type": "code",
   "execution_count": 43,
   "metadata": {},
   "outputs": [],
   "source": [
    "#2.2 Write a Python function which takes a character (i.e. a string of length 1) and returns True if\n",
    "#    it is a vowel, False otherwise.\n",
    "\n",
    "\n",
    "def vowles_check(str):\n",
    "    if str in ['a','e','i','o','u']:\n",
    "        return True\n",
    "    else:\n",
    "        return False\n"
   ]
  },
  {
   "cell_type": "code",
   "execution_count": 42,
   "metadata": {},
   "outputs": [
    {
     "data": {
      "text/plain": [
       "True"
      ]
     },
     "execution_count": 42,
     "metadata": {},
     "output_type": "execute_result"
    }
   ],
   "source": [
    "vowles_check('a')"
   ]
  }
 ],
 "metadata": {
  "kernelspec": {
   "display_name": "Python 3",
   "language": "python",
   "name": "python3"
  },
  "language_info": {
   "codemirror_mode": {
    "name": "ipython",
    "version": 3
   },
   "file_extension": ".py",
   "mimetype": "text/x-python",
   "name": "python",
   "nbconvert_exporter": "python",
   "pygments_lexer": "ipython3",
   "version": "3.7.1"
  }
 },
 "nbformat": 4,
 "nbformat_minor": 2
}
