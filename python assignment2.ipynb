{
 "cells": [
  {
   "cell_type": "code",
   "execution_count": 32,
   "metadata": {},
   "outputs": [
    {
     "name": "stdout",
     "output_type": "stream",
     "text": [
      "* \n",
      "* * \n",
      "* * * \n",
      "* * * * \n",
      "* * * * * \n",
      "* * * * \n",
      "* * * \n",
      "* * \n",
      "* \n"
     ]
    }
   ],
   "source": [
    "#1.pattern using nested Forloop\n",
    "for i in range(1, 10):\n",
    "    if(i==6):\n",
    "       i=i-2\n",
    "    if(i==7):\n",
    "       i=i-4\n",
    "    if(i==8):\n",
    "       i=i-6\n",
    "    if(i==9):\n",
    "       i=i-8\n",
    "    if(i==10):\n",
    "       i=i-10\n",
    "    for j in range(i):\n",
    "         print(\"*\", end=' ')\n",
    "    print()"
   ]
  },
  {
   "cell_type": "code",
   "execution_count": 10,
   "metadata": {},
   "outputs": [
    {
     "name": "stdout",
     "output_type": "stream",
     "text": [
      "Enter User First Name: Dhana\n",
      "Inputword : Dhana \n",
      "Output : anahD \n"
     ]
    }
   ],
   "source": [
    "#2. Program to accept Users Firstname and Print in reverse order\n",
    "a = input(\"Enter User First Name: \" )\n",
    "print(\"Inputword : %s \" % a)\n",
    "c=a[::-1]\n",
    "print(\"Output : %s \" % c)"
   ]
  }
 ],
 "metadata": {
  "kernelspec": {
   "display_name": "Python 3",
   "language": "python",
   "name": "python3"
  },
  "language_info": {
   "codemirror_mode": {
    "name": "ipython",
    "version": 3
   },
   "file_extension": ".py",
   "mimetype": "text/x-python",
   "name": "python",
   "nbconvert_exporter": "python",
   "pygments_lexer": "ipython3",
   "version": "3.7.1"
  }
 },
 "nbformat": 4,
 "nbformat_minor": 2
}
